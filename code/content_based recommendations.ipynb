{
 "cells": [
  {
   "cell_type": "markdown",
   "id": "ae6a22c1",
   "metadata": {},
   "source": [
    "# Content-based recommendations using Ingredients "
   ]
  },
  {
   "cell_type": "code",
   "execution_count": 6,
   "id": "0812a945",
   "metadata": {},
   "outputs": [],
   "source": [
    "import seaborn as sns\n",
    "import pandas as pd\n",
    "import matplotlib.pyplot as plt\n",
    "import numpy as np\n",
    "import pandas as pd\n",
    "import seaborn as sns\n",
    "import matplotlib as plt\n",
    "from sklearn.preprocessing import MultiLabelBinarizer\n",
    "import math  "
   ]
  },
  {
   "cell_type": "code",
   "execution_count": 7,
   "id": "8ba689bb",
   "metadata": {},
   "outputs": [
    {
     "name": "stderr",
     "output_type": "stream",
     "text": [
      "[nltk_data] Downloading package stopwords to\n",
      "[nltk_data]     /Users/harshini/nltk_data...\n",
      "[nltk_data]   Package stopwords is already up-to-date!\n",
      "[nltk_data] Downloading package punkt to /Users/harshini/nltk_data...\n",
      "[nltk_data]   Package punkt is already up-to-date!\n",
      "[nltk_data] Downloading package wordnet to\n",
      "[nltk_data]     /Users/harshini/nltk_data...\n",
      "[nltk_data]   Package wordnet is already up-to-date!\n"
     ]
    },
    {
     "data": {
      "text/plain": [
       "True"
      ]
     },
     "execution_count": 7,
     "metadata": {},
     "output_type": "execute_result"
    }
   ],
   "source": [
    "import pandas as pd\n",
    "import numpy as np\n",
    "import re\n",
    "import matplotlib.pyplot as plt\n",
    "%matplotlib inline\n",
    "import nltk\n",
    "from sklearn.feature_extraction.text import CountVectorizer\n",
    "from sklearn.feature_extraction.text import TfidfVectorizer\n",
    "from sklearn.feature_extraction.text import TfidfTransformer\n",
    "from nltk.probability import FreqDist\n",
    "from nltk.corpus import stopwords\n",
    "from nltk.stem import PorterStemmer\n",
    "from sklearn import metrics\n",
    "from sklearn.model_selection import train_test_split\n",
    "from matplotlib import cm\n",
    "import numpy as np\n",
    "from sklearn.ensemble import RandomForestClassifier\n",
    "\n",
    "from sklearn.metrics import accuracy_score\n",
    "from sklearn.metrics import f1_score\n",
    "from nltk.tokenize import RegexpTokenizer\n",
    "from nltk.stem import WordNetLemmatizer \n",
    "\n",
    "from sklearn.metrics.pairwise import cosine_similarity\n",
    "\n",
    "from bokeh.io import show, curdoc, output_notebook, push_notebook\n",
    "from bokeh.plotting import figure\n",
    "from bokeh.models import ColumnDataSource, HoverTool, Select, Paragraph, TextInput\n",
    "from bokeh.layouts import widgetbox, column, row\n",
    "from ipywidgets import interact\n",
    "\n",
    "\n",
    "from nltk.probability import FreqDist\n",
    "from nltk.corpus import stopwords\n",
    "from nltk.stem import PorterStemmer\n",
    "from sklearn import metrics\n",
    "from sklearn.model_selection import train_test_split\n",
    "from matplotlib import cm\n",
    "\n",
    "from sklearn.ensemble import RandomForestClassifier\n",
    "from sklearn.metrics import accuracy_score\n",
    "from sklearn.metrics import f1_score\n",
    "from nltk.tokenize import RegexpTokenizer\n",
    "from nltk.stem import WordNetLemmatizer \n",
    "\n",
    "import markovify\n",
    "import string\n",
    "\n",
    "from os import path\n",
    "from PIL import Image\n",
    "from wordcloud import WordCloud, STOPWORDS, ImageColorGenerator\n",
    "\n",
    "\n",
    "from sklearn.pipeline import Pipeline\n",
    "\n",
    "from sklearn.naive_bayes import MultinomialNB\n",
    "from sklearn.linear_model import SGDClassifier\n",
    "from sklearn.linear_model import LogisticRegression\n",
    "\n",
    "import warnings; warnings.simplefilter('ignore')\n",
    "nltk.download('stopwords')\n",
    "nltk.download('punkt')\n",
    "nltk.download('wordnet')"
   ]
  },
  {
   "cell_type": "code",
   "execution_count": null,
   "id": "b40565ff",
   "metadata": {},
   "outputs": [],
   "source": []
  },
  {
   "cell_type": "code",
   "execution_count": 8,
   "id": "e901389a",
   "metadata": {},
   "outputs": [],
   "source": [
    "from sklearn.metrics.pairwise import linear_kernel, cosine_similarity"
   ]
  },
  {
   "cell_type": "code",
   "execution_count": 9,
   "id": "d3887811",
   "metadata": {},
   "outputs": [],
   "source": [
    "df = pd.read_csv(r\"../data/cosmetic_preprocess.csv\");"
   ]
  },
  {
   "cell_type": "code",
   "execution_count": 10,
   "id": "bc339737",
   "metadata": {},
   "outputs": [],
   "source": [
    "df_cont = df[['Name', 'Label', 'ingredients', 'rank','brand','price']]\n",
    "df_cont.drop_duplicates(inplace=True)"
   ]
  },
  {
   "cell_type": "code",
   "execution_count": 11,
   "id": "d267069e",
   "metadata": {},
   "outputs": [],
   "source": [
    "tf = TfidfVectorizer(analyzer='word', ngram_range=(1, 2), min_df=0, stop_words='english')\n",
    "tfidf_matrix = tf.fit_transform(df_cont['ingredients'])"
   ]
  },
  {
   "cell_type": "code",
   "execution_count": 12,
   "id": "73d59eb5",
   "metadata": {},
   "outputs": [],
   "source": [
    "cosine_sim = linear_kernel(tfidf_matrix, tfidf_matrix)"
   ]
  },
  {
   "cell_type": "code",
   "execution_count": 13,
   "id": "642e9fd8",
   "metadata": {},
   "outputs": [],
   "source": [
    "df_cont = df_cont.reset_index(drop=True)\n",
    "titles = df_cont[['Name', 'ingredients', 'rank']]\n",
    "indices = pd.Series(df_cont.index, index=df_cont['Name'])\n"
   ]
  },
  {
   "cell_type": "code",
   "execution_count": 14,
   "id": "6f7d8d6c",
   "metadata": {},
   "outputs": [],
   "source": [
    "def content_recommendations(product):\n",
    "    idx = indices[product]\n",
    "    sim_scores = list(enumerate(cosine_sim[idx]))\n",
    "    sim_scores = sorted(sim_scores, key=lambda x: x[1], reverse=True)\n",
    "    sim_scores = sim_scores[1:11]\n",
    "    product_indices = [i[0] for i in sim_scores]\n",
    "    return titles.iloc[product_indices]"
   ]
  },
  {
   "cell_type": "code",
   "execution_count": 15,
   "id": "027383bd",
   "metadata": {},
   "outputs": [
    {
     "data": {
      "text/html": [
       "<div>\n",
       "<style scoped>\n",
       "    .dataframe tbody tr th:only-of-type {\n",
       "        vertical-align: middle;\n",
       "    }\n",
       "\n",
       "    .dataframe tbody tr th {\n",
       "        vertical-align: top;\n",
       "    }\n",
       "\n",
       "    .dataframe thead th {\n",
       "        text-align: right;\n",
       "    }\n",
       "</style>\n",
       "<table border=\"1\" class=\"dataframe\">\n",
       "  <thead>\n",
       "    <tr style=\"text-align: right;\">\n",
       "      <th></th>\n",
       "      <th>Name</th>\n",
       "      <th>ingredients</th>\n",
       "      <th>rank</th>\n",
       "    </tr>\n",
       "  </thead>\n",
       "  <tbody>\n",
       "    <tr>\n",
       "      <th>548</th>\n",
       "      <td>The Rice Wash Skin-Softening Cleanser</td>\n",
       "      <td>Aqua/Water/Eau, Microcrystalline Cellulose, Pr...</td>\n",
       "      <td>4.5</td>\n",
       "    </tr>\n",
       "    <tr>\n",
       "      <th>136</th>\n",
       "      <td>The Silk Cream</td>\n",
       "      <td>Water, Saccharomyces/Camellia Sinensis Leaf/Cl...</td>\n",
       "      <td>4.0</td>\n",
       "    </tr>\n",
       "    <tr>\n",
       "      <th>992</th>\n",
       "      <td>The Serum Stick: Treatment &amp; Touch Up Balm</td>\n",
       "      <td>Squalane, Oryza Sativa (Rice) Bran Wax, Cera A...</td>\n",
       "      <td>4.5</td>\n",
       "    </tr>\n",
       "    <tr>\n",
       "      <th>170</th>\n",
       "      <td>Mini The Essence Skincare Boosting Treatment</td>\n",
       "      <td>Saccharomyces/Camellia Sinensis Leaf/Cladosiph...</td>\n",
       "      <td>4.0</td>\n",
       "    </tr>\n",
       "    <tr>\n",
       "      <th>356</th>\n",
       "      <td>Better Daze Ahead CBD Moisturizer</td>\n",
       "      <td>Water, Glycerin, Cetearyl Alcohol, Cannabis Sa...</td>\n",
       "      <td>4.0</td>\n",
       "    </tr>\n",
       "    <tr>\n",
       "      <th>549</th>\n",
       "      <td>The Deep Cleanse Gentle Exfoliating Cleanser</td>\n",
       "      <td>Water, Sodium Cocoyl Glutamate, Propanediol, G...</td>\n",
       "      <td>4.0</td>\n",
       "    </tr>\n",
       "    <tr>\n",
       "      <th>790</th>\n",
       "      <td>Daily Superfoliant Exfoliator</td>\n",
       "      <td>Microcrystalline Cellulose, Sodium Bicarbonate...</td>\n",
       "      <td>4.5</td>\n",
       "    </tr>\n",
       "    <tr>\n",
       "      <th>0</th>\n",
       "      <td>The Dewy Skin Cream Plumping &amp; Hydrating Moist...</td>\n",
       "      <td>Aqua/Water/Eau, Saccharomyces/Camellia Sinensi...</td>\n",
       "      <td>4.0</td>\n",
       "    </tr>\n",
       "    <tr>\n",
       "      <th>1367</th>\n",
       "      <td>Violet-C Radiance Mask</td>\n",
       "      <td>Kaolin, Water, Glycerin, Saccharomyces/Camelli...</td>\n",
       "      <td>4.0</td>\n",
       "    </tr>\n",
       "    <tr>\n",
       "      <th>756</th>\n",
       "      <td>DeliKate™ Soothing Cleanser</td>\n",
       "      <td>Aqua/Water/ Eau, Caprylic/Capric Triglyceride,...</td>\n",
       "      <td>4.0</td>\n",
       "    </tr>\n",
       "  </tbody>\n",
       "</table>\n",
       "</div>"
      ],
      "text/plain": [
       "                                                   Name  \\\n",
       "548               The Rice Wash Skin-Softening Cleanser   \n",
       "136                                      The Silk Cream   \n",
       "992          The Serum Stick: Treatment & Touch Up Balm   \n",
       "170        Mini The Essence Skincare Boosting Treatment   \n",
       "356                   Better Daze Ahead CBD Moisturizer   \n",
       "549        The Deep Cleanse Gentle Exfoliating Cleanser   \n",
       "790                       Daily Superfoliant Exfoliator   \n",
       "0     The Dewy Skin Cream Plumping & Hydrating Moist...   \n",
       "1367                             Violet-C Radiance Mask   \n",
       "756                         DeliKate™ Soothing Cleanser   \n",
       "\n",
       "                                            ingredients  rank  \n",
       "548   Aqua/Water/Eau, Microcrystalline Cellulose, Pr...   4.5  \n",
       "136   Water, Saccharomyces/Camellia Sinensis Leaf/Cl...   4.0  \n",
       "992   Squalane, Oryza Sativa (Rice) Bran Wax, Cera A...   4.5  \n",
       "170   Saccharomyces/Camellia Sinensis Leaf/Cladosiph...   4.0  \n",
       "356   Water, Glycerin, Cetearyl Alcohol, Cannabis Sa...   4.0  \n",
       "549   Water, Sodium Cocoyl Glutamate, Propanediol, G...   4.0  \n",
       "790   Microcrystalline Cellulose, Sodium Bicarbonate...   4.5  \n",
       "0     Aqua/Water/Eau, Saccharomyces/Camellia Sinensi...   4.0  \n",
       "1367  Kaolin, Water, Glycerin, Saccharomyces/Camelli...   4.0  \n",
       "756   Aqua/Water/ Eau, Caprylic/Capric Triglyceride,...   4.0  "
      ]
     },
     "execution_count": 15,
     "metadata": {},
     "output_type": "execute_result"
    }
   ],
   "source": [
    "content_recommendations('The Rice Polish Foaming Enzyme Powder')"
   ]
  },
  {
   "cell_type": "code",
   "execution_count": null,
   "id": "bfde38ac",
   "metadata": {},
   "outputs": [],
   "source": []
  }
 ],
 "metadata": {
  "kernelspec": {
   "display_name": "Python 3 (ipykernel)",
   "language": "python",
   "name": "python3"
  },
  "language_info": {
   "codemirror_mode": {
    "name": "ipython",
    "version": 3
   },
   "file_extension": ".py",
   "mimetype": "text/x-python",
   "name": "python",
   "nbconvert_exporter": "python",
   "pygments_lexer": "ipython3",
   "version": "3.9.7"
  }
 },
 "nbformat": 4,
 "nbformat_minor": 5
}
