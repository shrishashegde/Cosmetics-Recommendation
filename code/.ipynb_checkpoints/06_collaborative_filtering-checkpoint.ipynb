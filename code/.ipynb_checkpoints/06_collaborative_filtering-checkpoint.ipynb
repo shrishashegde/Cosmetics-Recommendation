{
 "cells": [
  {
   "cell_type": "code",
   "execution_count": 4,
   "id": "b96ddc4f",
   "metadata": {},
   "outputs": [],
   "source": [
    "import seaborn as sns\n",
    "import pandas as pd\n",
    "import matplotlib.pyplot as plt\n",
    "import numpy as np\n",
    "import pandas as pd\n",
    "import seaborn as sns\n",
    "import matplotlib as plt"
   ]
  },
  {
   "cell_type": "code",
   "execution_count": 5,
   "id": "c5e869da",
   "metadata": {},
   "outputs": [],
   "source": [
    "df = pd.read_csv(r\"../data/cosmetic_preprocess.csv\");"
   ]
  },
  {
   "cell_type": "code",
   "execution_count": 6,
   "id": "4e42d739",
   "metadata": {},
   "outputs": [
    {
     "name": "stderr",
     "output_type": "stream",
     "text": [
      "/Users/harshini/opt/anaconda3/lib/python3.9/site-packages/lightfm/_lightfm_fast.py:9: UserWarning: LightFM was compiled without OpenMP support. Only a single thread will be used.\n",
      "  warnings.warn(\n"
     ]
    }
   ],
   "source": [
    "from scipy import sparse\n",
    "from lightfm import LightFM\n",
    "from sklearn.metrics.pairwise import cosine_similarity\n",
    "from lightfm.evaluation import auc_score\n",
    "from lightfm.evaluation import precision_at_k,recall_at_k"
   ]
  },
  {
   "cell_type": "code",
   "execution_count": 7,
   "id": "8d8aaf05",
   "metadata": {},
   "outputs": [],
   "source": [
    "def create_interaction_matrix(df, user_col, item_col, rating_col, norm= False, threshold = None):\n",
    "    interactions = df.groupby([user_col, item_col])[rating_col].sum().unstack().reset_index().fillna(0).set_index(user_col)\n",
    "    if norm:\n",
    "        interactions = interactions.applymap(lambda x: 1 if x > threshold else 0)\n",
    "    return interactions"
   ]
  },
  {
   "cell_type": "code",
   "execution_count": 8,
   "id": "d6dfa909",
   "metadata": {},
   "outputs": [
    {
     "data": {
      "text/html": [
       "<div>\n",
       "<style scoped>\n",
       "    .dataframe tbody tr th:only-of-type {\n",
       "        vertical-align: middle;\n",
       "    }\n",
       "\n",
       "    .dataframe tbody tr th {\n",
       "        vertical-align: top;\n",
       "    }\n",
       "\n",
       "    .dataframe thead th {\n",
       "        text-align: right;\n",
       "    }\n",
       "</style>\n",
       "<table border=\"1\" class=\"dataframe\">\n",
       "  <thead>\n",
       "    <tr style=\"text-align: right;\">\n",
       "      <th>Label</th>\n",
       "      <th>cleanser</th>\n",
       "      <th>eye_treatment</th>\n",
       "      <th>face_mask</th>\n",
       "      <th>face_treatment</th>\n",
       "      <th>moisturizer</th>\n",
       "      <th>sunscreen</th>\n",
       "    </tr>\n",
       "    <tr>\n",
       "      <th>Name</th>\n",
       "      <th></th>\n",
       "      <th></th>\n",
       "      <th></th>\n",
       "      <th></th>\n",
       "      <th></th>\n",
       "      <th></th>\n",
       "    </tr>\n",
       "  </thead>\n",
       "  <tbody>\n",
       "    <tr>\n",
       "      <th>\"Buffet\" + Copper Peptides 1%</th>\n",
       "      <td>0.0</td>\n",
       "      <td>0.0</td>\n",
       "      <td>0.0</td>\n",
       "      <td>4.5</td>\n",
       "      <td>0.0</td>\n",
       "      <td>0.0</td>\n",
       "    </tr>\n",
       "    <tr>\n",
       "      <th>+Retinol Vita C Power Serum</th>\n",
       "      <td>0.0</td>\n",
       "      <td>0.0</td>\n",
       "      <td>0.0</td>\n",
       "      <td>3.5</td>\n",
       "      <td>0.0</td>\n",
       "      <td>0.0</td>\n",
       "    </tr>\n",
       "    <tr>\n",
       "      <th>+Retinol Vitamin C Moisturizer</th>\n",
       "      <td>0.0</td>\n",
       "      <td>0.0</td>\n",
       "      <td>0.0</td>\n",
       "      <td>0.0</td>\n",
       "      <td>4.5</td>\n",
       "      <td>0.0</td>\n",
       "    </tr>\n",
       "    <tr>\n",
       "      <th>1 Minute Face Masks</th>\n",
       "      <td>0.0</td>\n",
       "      <td>0.0</td>\n",
       "      <td>3.5</td>\n",
       "      <td>0.0</td>\n",
       "      <td>0.0</td>\n",
       "      <td>0.0</td>\n",
       "    </tr>\n",
       "    <tr>\n",
       "      <th>10 + 10 Moisturizer with 10% Vitamin C + 10% Peptide Complex + Ceramides</th>\n",
       "      <td>0.0</td>\n",
       "      <td>0.0</td>\n",
       "      <td>0.0</td>\n",
       "      <td>0.0</td>\n",
       "      <td>4.5</td>\n",
       "      <td>0.0</td>\n",
       "    </tr>\n",
       "  </tbody>\n",
       "</table>\n",
       "</div>"
      ],
      "text/plain": [
       "Label                                               cleanser  eye_treatment  \\\n",
       "Name                                                                          \n",
       "\"Buffet\" + Copper Peptides 1%                            0.0            0.0   \n",
       "+Retinol Vita C Power Serum                              0.0            0.0   \n",
       "+Retinol Vitamin C Moisturizer                           0.0            0.0   \n",
       "1 Minute Face Masks                                      0.0            0.0   \n",
       "10 + 10 Moisturizer with 10% Vitamin C + 10% Pe...       0.0            0.0   \n",
       "\n",
       "Label                                               face_mask  face_treatment  \\\n",
       "Name                                                                            \n",
       "\"Buffet\" + Copper Peptides 1%                             0.0             4.5   \n",
       "+Retinol Vita C Power Serum                               0.0             3.5   \n",
       "+Retinol Vitamin C Moisturizer                            0.0             0.0   \n",
       "1 Minute Face Masks                                       3.5             0.0   \n",
       "10 + 10 Moisturizer with 10% Vitamin C + 10% Pe...        0.0             0.0   \n",
       "\n",
       "Label                                               moisturizer  sunscreen  \n",
       "Name                                                                        \n",
       "\"Buffet\" + Copper Peptides 1%                               0.0        0.0  \n",
       "+Retinol Vita C Power Serum                                 0.0        0.0  \n",
       "+Retinol Vitamin C Moisturizer                              4.5        0.0  \n",
       "1 Minute Face Masks                                         0.0        0.0  \n",
       "10 + 10 Moisturizer with 10% Vitamin C + 10% Pe...          4.5        0.0  "
      ]
     },
     "execution_count": 8,
     "metadata": {},
     "output_type": "execute_result"
    }
   ],
   "source": [
    "interaction_matrix = create_interaction_matrix(df=df, user_col='Name', item_col = 'Label', rating_col='rank')\n",
    "interaction_matrix.head()"
   ]
  },
  {
   "cell_type": "code",
   "execution_count": 9,
   "id": "0eb2ed62",
   "metadata": {},
   "outputs": [],
   "source": [
    "def runMF(interactions, n_components=30, loss='warp', k=15, epoch=30,n_jobs = 4):\n",
    "    x = sparse.csr_matrix(interactions.values)\n",
    "    model = LightFM(no_components= n_components, loss=loss,k=k)\n",
    "    model.fit(x,epochs=epoch,num_threads = n_jobs)\n",
    "    train_auc = auc_score(model, x, num_threads=n_jobs).mean()\n",
    "    print('Collaborative filtering AUC: %s' % train_auc)\n",
    "    print(\"Train precision: %.4f\" % precision_at_k(model, x, k=k,num_threads=n_jobs).mean())\n",
    "\n",
    "    return model"
   ]
  },
  {
   "cell_type": "code",
   "execution_count": 10,
   "id": "f289c446",
   "metadata": {},
   "outputs": [
    {
     "name": "stdout",
     "output_type": "stream",
     "text": [
      "Collaborative filtering AUC: 1.0\n",
      "Train precision: 0.0738\n"
     ]
    }
   ],
   "source": [
    "mf_model = runMF(interactions = interaction_matrix,\n",
    "                 n_components = 30,\n",
    "                 loss = 'warp',\n",
    "                 epoch = 30,\n",
    "                 n_jobs = 4)"
   ]
  },
  {
   "cell_type": "code",
   "execution_count": null,
   "id": "6b934ae7",
   "metadata": {},
   "outputs": [],
   "source": []
  }
 ],
 "metadata": {
  "kernelspec": {
   "display_name": "Python 3 (ipykernel)",
   "language": "python",
   "name": "python3"
  },
  "language_info": {
   "codemirror_mode": {
    "name": "ipython",
    "version": 3
   },
   "file_extension": ".py",
   "mimetype": "text/x-python",
   "name": "python",
   "nbconvert_exporter": "python",
   "pygments_lexer": "ipython3",
   "version": "3.9.7"
  }
 },
 "nbformat": 4,
 "nbformat_minor": 5
}
