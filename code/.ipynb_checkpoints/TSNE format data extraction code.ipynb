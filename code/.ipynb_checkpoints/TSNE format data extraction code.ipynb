{
 "cells": [
  {
   "cell_type": "code",
   "execution_count": 1,
   "id": "1cc2596a",
   "metadata": {},
   "outputs": [],
   "source": [
    "import pandas as pd\n",
    "import numpy as np\n",
    "from sklearn.manifold import TSNE\n",
    "\n",
    "\n",
    "# Load the data\n",
    "cosm_2 = pd.read_csv('../data/cosmetic_preprocess.csv')\n",
    "#droping the below columns due to the data analyis of skintype columns\n",
    "cosm_2 = cosm_2.drop(columns=['Mature','Sensitive'])"
   ]
  },
  {
   "cell_type": "code",
   "execution_count": 2,
   "id": "14a47cd4",
   "metadata": {},
   "outputs": [
    {
     "name": "stdout",
     "output_type": "stream",
     "text": [
      "['moisturizer', 'cleanser', 'face_treatment', 'face_mask', 'eye_treatment', 'sunscreen']\n",
      "['Combination', 'Dry', 'Normal', 'Oil']\n"
     ]
    }
   ],
   "source": [
    "option_1 = cosm_2.Label.unique().tolist()\n",
    "option_2 = cosm_2.columns[6:].tolist()\n",
    "print(option_1)\n",
    "print(option_2)"
   ]
  },
  {
   "cell_type": "code",
   "execution_count": 3,
   "id": "9231a3c5",
   "metadata": {},
   "outputs": [],
   "source": [
    "def my_recommender(op_1, op_2):\n",
    "    print(op_1)\n",
    "    print(op_2)\n",
    "    df = cosm_2[cosm_2['Label'] == op_1][cosm_2[op_2] == 1]\n",
    "    df = df.reset_index()\n",
    "\n",
    "    # embedding each ingredients\n",
    "    ingredient_idx = {}\n",
    "    corpus = []\n",
    "    idx = 0\n",
    "\n",
    "    for i in range(len(df)):\n",
    "        ingreds = df['ingredients'][i]\n",
    "        ingreds = ingreds.lower()\n",
    "        tokens = ingreds.split(', ')\n",
    "        corpus.append(tokens)\n",
    "        for ingredient in tokens:\n",
    "            if ingredient not in ingredient_idx:\n",
    "                ingredient_idx[ingredient] = idx\n",
    "                idx += 1\n",
    "\n",
    "    # Get the number of items and tokens\n",
    "    M = len(df)                 # The number of the items\n",
    "    N = len(ingredient_idx)     # The number of the ingredients\n",
    "\n",
    "    # Initialize a matrix of zeros\n",
    "    A = np.zeros(shape = (M, N))\n",
    "\n",
    "    # Define the oh_encoder function\n",
    "    def oh_encoder(tokens):\n",
    "        x = np.zeros(N)\n",
    "        for t in tokens:\n",
    "            # Get the index for each ingredient\n",
    "            idx = ingredient_idx[t]\n",
    "            # Put 1 at the corresponding indices\n",
    "            x[idx] = 1\n",
    "        return x\n",
    "\n",
    "    # Make a document-term matrix\n",
    "    i = 0\n",
    "    for tokens in corpus:\n",
    "        A[i, :] = oh_encoder(tokens)\n",
    "        i += 1\n",
    "\n",
    "    # Dimension reduction with t-SNE\n",
    "    model = TSNE(n_components = 2, learning_rate = 200)\n",
    "    tsne_features = model.fit_transform(A)\n",
    "\n",
    "    # Make X, Y columns\n",
    "    df['X'] = tsne_features[:, 0]\n",
    "    df['Y'] = tsne_features[:, 1]\n",
    "\n",
    "    return df\n"
   ]
  },
  {
   "cell_type": "code",
   "execution_count": 4,
   "id": "37a4a81c",
   "metadata": {},
   "outputs": [
    {
     "name": "stdout",
     "output_type": "stream",
     "text": [
      "moisturizer\n",
      "Combination\n"
     ]
    },
    {
     "name": "stderr",
     "output_type": "stream",
     "text": [
      "C:\\Users\\nimma\\AppData\\Local\\Temp/ipykernel_27592/1912360852.py:4: UserWarning: Boolean Series key will be reindexed to match DataFrame index.\n",
      "  df = cosm_2[cosm_2['Label'] == op_1][cosm_2[op_2] == 1]\n"
     ]
    },
    {
     "name": "stdout",
     "output_type": "stream",
     "text": [
      "moisturizer\n",
      "Dry\n"
     ]
    },
    {
     "name": "stderr",
     "output_type": "stream",
     "text": [
      "C:\\Users\\nimma\\AppData\\Local\\Temp/ipykernel_27592/1912360852.py:4: UserWarning: Boolean Series key will be reindexed to match DataFrame index.\n",
      "  df = cosm_2[cosm_2['Label'] == op_1][cosm_2[op_2] == 1]\n"
     ]
    },
    {
     "name": "stdout",
     "output_type": "stream",
     "text": [
      "moisturizer\n",
      "Normal\n"
     ]
    },
    {
     "name": "stderr",
     "output_type": "stream",
     "text": [
      "C:\\Users\\nimma\\AppData\\Local\\Temp/ipykernel_27592/1912360852.py:4: UserWarning: Boolean Series key will be reindexed to match DataFrame index.\n",
      "  df = cosm_2[cosm_2['Label'] == op_1][cosm_2[op_2] == 1]\n"
     ]
    },
    {
     "name": "stdout",
     "output_type": "stream",
     "text": [
      "moisturizer\n",
      "Oil\n"
     ]
    },
    {
     "name": "stderr",
     "output_type": "stream",
     "text": [
      "C:\\Users\\nimma\\AppData\\Local\\Temp/ipykernel_27592/1912360852.py:4: UserWarning: Boolean Series key will be reindexed to match DataFrame index.\n",
      "  df = cosm_2[cosm_2['Label'] == op_1][cosm_2[op_2] == 1]\n"
     ]
    },
    {
     "name": "stdout",
     "output_type": "stream",
     "text": [
      "cleanser\n",
      "Combination\n"
     ]
    },
    {
     "name": "stderr",
     "output_type": "stream",
     "text": [
      "C:\\Users\\nimma\\AppData\\Local\\Temp/ipykernel_27592/1912360852.py:4: UserWarning: Boolean Series key will be reindexed to match DataFrame index.\n",
      "  df = cosm_2[cosm_2['Label'] == op_1][cosm_2[op_2] == 1]\n"
     ]
    },
    {
     "name": "stdout",
     "output_type": "stream",
     "text": [
      "cleanser\n",
      "Dry\n"
     ]
    },
    {
     "name": "stderr",
     "output_type": "stream",
     "text": [
      "C:\\Users\\nimma\\AppData\\Local\\Temp/ipykernel_27592/1912360852.py:4: UserWarning: Boolean Series key will be reindexed to match DataFrame index.\n",
      "  df = cosm_2[cosm_2['Label'] == op_1][cosm_2[op_2] == 1]\n"
     ]
    },
    {
     "name": "stdout",
     "output_type": "stream",
     "text": [
      "cleanser\n",
      "Normal\n"
     ]
    },
    {
     "name": "stderr",
     "output_type": "stream",
     "text": [
      "C:\\Users\\nimma\\AppData\\Local\\Temp/ipykernel_27592/1912360852.py:4: UserWarning: Boolean Series key will be reindexed to match DataFrame index.\n",
      "  df = cosm_2[cosm_2['Label'] == op_1][cosm_2[op_2] == 1]\n"
     ]
    },
    {
     "name": "stdout",
     "output_type": "stream",
     "text": [
      "cleanser\n",
      "Oil\n"
     ]
    },
    {
     "name": "stderr",
     "output_type": "stream",
     "text": [
      "C:\\Users\\nimma\\AppData\\Local\\Temp/ipykernel_27592/1912360852.py:4: UserWarning: Boolean Series key will be reindexed to match DataFrame index.\n",
      "  df = cosm_2[cosm_2['Label'] == op_1][cosm_2[op_2] == 1]\n"
     ]
    },
    {
     "name": "stdout",
     "output_type": "stream",
     "text": [
      "face_treatment\n",
      "Combination\n"
     ]
    },
    {
     "name": "stderr",
     "output_type": "stream",
     "text": [
      "C:\\Users\\nimma\\AppData\\Local\\Temp/ipykernel_27592/1912360852.py:4: UserWarning: Boolean Series key will be reindexed to match DataFrame index.\n",
      "  df = cosm_2[cosm_2['Label'] == op_1][cosm_2[op_2] == 1]\n"
     ]
    },
    {
     "name": "stdout",
     "output_type": "stream",
     "text": [
      "face_treatment\n",
      "Dry\n"
     ]
    },
    {
     "name": "stderr",
     "output_type": "stream",
     "text": [
      "C:\\Users\\nimma\\AppData\\Local\\Temp/ipykernel_27592/1912360852.py:4: UserWarning: Boolean Series key will be reindexed to match DataFrame index.\n",
      "  df = cosm_2[cosm_2['Label'] == op_1][cosm_2[op_2] == 1]\n"
     ]
    },
    {
     "name": "stdout",
     "output_type": "stream",
     "text": [
      "face_treatment\n",
      "Normal\n"
     ]
    },
    {
     "name": "stderr",
     "output_type": "stream",
     "text": [
      "C:\\Users\\nimma\\AppData\\Local\\Temp/ipykernel_27592/1912360852.py:4: UserWarning: Boolean Series key will be reindexed to match DataFrame index.\n",
      "  df = cosm_2[cosm_2['Label'] == op_1][cosm_2[op_2] == 1]\n"
     ]
    },
    {
     "name": "stdout",
     "output_type": "stream",
     "text": [
      "face_treatment\n",
      "Oil\n"
     ]
    },
    {
     "name": "stderr",
     "output_type": "stream",
     "text": [
      "C:\\Users\\nimma\\AppData\\Local\\Temp/ipykernel_27592/1912360852.py:4: UserWarning: Boolean Series key will be reindexed to match DataFrame index.\n",
      "  df = cosm_2[cosm_2['Label'] == op_1][cosm_2[op_2] == 1]\n"
     ]
    },
    {
     "name": "stdout",
     "output_type": "stream",
     "text": [
      "face_mask\n",
      "Combination\n"
     ]
    },
    {
     "name": "stderr",
     "output_type": "stream",
     "text": [
      "C:\\Users\\nimma\\AppData\\Local\\Temp/ipykernel_27592/1912360852.py:4: UserWarning: Boolean Series key will be reindexed to match DataFrame index.\n",
      "  df = cosm_2[cosm_2['Label'] == op_1][cosm_2[op_2] == 1]\n"
     ]
    },
    {
     "name": "stdout",
     "output_type": "stream",
     "text": [
      "face_mask\n",
      "Dry\n"
     ]
    },
    {
     "name": "stderr",
     "output_type": "stream",
     "text": [
      "C:\\Users\\nimma\\AppData\\Local\\Temp/ipykernel_27592/1912360852.py:4: UserWarning: Boolean Series key will be reindexed to match DataFrame index.\n",
      "  df = cosm_2[cosm_2['Label'] == op_1][cosm_2[op_2] == 1]\n",
      "C:\\Users\\nimma\\AppData\\Local\\Temp/ipykernel_27592/1912360852.py:4: UserWarning: Boolean Series key will be reindexed to match DataFrame index.\n",
      "  df = cosm_2[cosm_2['Label'] == op_1][cosm_2[op_2] == 1]\n"
     ]
    },
    {
     "name": "stdout",
     "output_type": "stream",
     "text": [
      "face_mask\n",
      "Normal\n",
      "face_mask\n",
      "Oil\n"
     ]
    },
    {
     "name": "stderr",
     "output_type": "stream",
     "text": [
      "C:\\Users\\nimma\\AppData\\Local\\Temp/ipykernel_27592/1912360852.py:4: UserWarning: Boolean Series key will be reindexed to match DataFrame index.\n",
      "  df = cosm_2[cosm_2['Label'] == op_1][cosm_2[op_2] == 1]\n"
     ]
    },
    {
     "name": "stdout",
     "output_type": "stream",
     "text": [
      "eye_treatment\n",
      "Combination\n"
     ]
    },
    {
     "name": "stderr",
     "output_type": "stream",
     "text": [
      "C:\\Users\\nimma\\AppData\\Local\\Temp/ipykernel_27592/1912360852.py:4: UserWarning: Boolean Series key will be reindexed to match DataFrame index.\n",
      "  df = cosm_2[cosm_2['Label'] == op_1][cosm_2[op_2] == 1]\n"
     ]
    },
    {
     "name": "stdout",
     "output_type": "stream",
     "text": [
      "eye_treatment\n",
      "Dry\n"
     ]
    },
    {
     "name": "stderr",
     "output_type": "stream",
     "text": [
      "C:\\Users\\nimma\\AppData\\Local\\Temp/ipykernel_27592/1912360852.py:4: UserWarning: Boolean Series key will be reindexed to match DataFrame index.\n",
      "  df = cosm_2[cosm_2['Label'] == op_1][cosm_2[op_2] == 1]\n"
     ]
    },
    {
     "name": "stdout",
     "output_type": "stream",
     "text": [
      "eye_treatment\n",
      "Normal\n"
     ]
    },
    {
     "name": "stderr",
     "output_type": "stream",
     "text": [
      "C:\\Users\\nimma\\AppData\\Local\\Temp/ipykernel_27592/1912360852.py:4: UserWarning: Boolean Series key will be reindexed to match DataFrame index.\n",
      "  df = cosm_2[cosm_2['Label'] == op_1][cosm_2[op_2] == 1]\n"
     ]
    },
    {
     "name": "stdout",
     "output_type": "stream",
     "text": [
      "eye_treatment\n",
      "Oil\n"
     ]
    },
    {
     "name": "stderr",
     "output_type": "stream",
     "text": [
      "C:\\Users\\nimma\\AppData\\Local\\Temp/ipykernel_27592/1912360852.py:4: UserWarning: Boolean Series key will be reindexed to match DataFrame index.\n",
      "  df = cosm_2[cosm_2['Label'] == op_1][cosm_2[op_2] == 1]\n"
     ]
    },
    {
     "name": "stdout",
     "output_type": "stream",
     "text": [
      "sunscreen\n",
      "Combination\n"
     ]
    },
    {
     "name": "stderr",
     "output_type": "stream",
     "text": [
      "C:\\Users\\nimma\\AppData\\Local\\Temp/ipykernel_27592/1912360852.py:4: UserWarning: Boolean Series key will be reindexed to match DataFrame index.\n",
      "  df = cosm_2[cosm_2['Label'] == op_1][cosm_2[op_2] == 1]\n"
     ]
    },
    {
     "name": "stdout",
     "output_type": "stream",
     "text": [
      "sunscreen\n",
      "Dry\n"
     ]
    },
    {
     "name": "stderr",
     "output_type": "stream",
     "text": [
      "C:\\Users\\nimma\\AppData\\Local\\Temp/ipykernel_27592/1912360852.py:4: UserWarning: Boolean Series key will be reindexed to match DataFrame index.\n",
      "  df = cosm_2[cosm_2['Label'] == op_1][cosm_2[op_2] == 1]\n"
     ]
    },
    {
     "name": "stdout",
     "output_type": "stream",
     "text": [
      "sunscreen\n",
      "Normal\n"
     ]
    },
    {
     "name": "stderr",
     "output_type": "stream",
     "text": [
      "C:\\Users\\nimma\\AppData\\Local\\Temp/ipykernel_27592/1912360852.py:4: UserWarning: Boolean Series key will be reindexed to match DataFrame index.\n",
      "  df = cosm_2[cosm_2['Label'] == op_1][cosm_2[op_2] == 1]\n"
     ]
    },
    {
     "name": "stdout",
     "output_type": "stream",
     "text": [
      "sunscreen\n",
      "Oil\n"
     ]
    },
    {
     "name": "stderr",
     "output_type": "stream",
     "text": [
      "C:\\Users\\nimma\\AppData\\Local\\Temp/ipykernel_27592/1912360852.py:4: UserWarning: Boolean Series key will be reindexed to match DataFrame index.\n",
      "  df = cosm_2[cosm_2['Label'] == op_1][cosm_2[op_2] == 1]\n"
     ]
    }
   ],
   "source": [
    "df_all = pd.DataFrame()\n",
    "for op_1 in option_1:\n",
    "    for op_2 in option_2:\n",
    "            temp = my_recommender(op_1, op_2)\n",
    "            temp['Label'] = op_1 + '_' + op_2\n",
    "            df_all = pd.concat([df_all, temp])\n",
    "\n",
    "# Save the file\n",
    "df_all.to_csv('cosmetic_TSNE.csv', encoding = 'utf-8-sig', index = False)"
   ]
  },
  {
   "cell_type": "code",
   "execution_count": null,
   "id": "d197abca",
   "metadata": {},
   "outputs": [],
   "source": []
  }
 ],
 "metadata": {
  "kernelspec": {
   "display_name": "Python 3 (ipykernel)",
   "language": "python",
   "name": "python3"
  },
  "language_info": {
   "codemirror_mode": {
    "name": "ipython",
    "version": 3
   },
   "file_extension": ".py",
   "mimetype": "text/x-python",
   "name": "python",
   "nbconvert_exporter": "python",
   "pygments_lexer": "ipython3",
   "version": "3.9.7"
  }
 },
 "nbformat": 4,
 "nbformat_minor": 5
}
